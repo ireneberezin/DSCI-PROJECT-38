{
 "cells": [
  {
   "cell_type": "markdown",
   "id": "8d5b98d1-35e9-48e3-bea3-1ff826ee268f",
   "metadata": {},
   "source": [
    "## Title: "
   ]
  },
  {
   "cell_type": "markdown",
   "id": "20a8963c-e526-45d8-9ecb-a973a1d37fc3",
   "metadata": {},
   "source": [
    "**Introduction:**\n",
    "\n",
    " * Provide some relevant background information on the topic so that someone unfamiliar with it will be prepared to understand the rest of your proposal\n",
    " * Clearly state the question you will try to answer with your project\n",
    " * Identify and describe the dataset that will be used to answer the question"
   ]
  },
  {
   "cell_type": "markdown",
   "id": "2c9ce9b1-6ca5-4251-a0dd-2035ec4116b1",
   "metadata": {},
   "source": [
    " **Preliminary exploratory data analysis:**\n",
    " \n",
    " * Demonstrate that the dataset can be read from the web into R\n",
    " * Clean and wrangle your data into a tidy format\n",
    " * Using only training data, summarize the data in at least one table (this is exploratory data analysis). An example of a useful table could be one that reports the number of observations in each class, the means of the predictor variables you plan to use in your analysis and how many rows have missing data.\n",
    " * Using only training data, visualize the data with at least one plot relevant to the analysis you plan to do (this is exploratory data analysis). An example of a useful visualization could be one that compares the distributions of each of the predictor variables you plan to use in your analysis."
   ]
  },
  {
   "cell_type": "markdown",
   "id": "c28a0d97-05d8-4cda-b49c-1364be8d15be",
   "metadata": {},
   "source": [
    "**Methods:**\n",
    "\n",
    " * Explain how you will conduct either your data analysis and which variables/columns you will use. Note - you do not need to use all variables/columns that exist in the raw data set. In fact, that's often not a good idea. For each variable think: is this a useful variable for prediction?\n",
    "   \n",
    " * Describe at least one way that you will visualize the results\n",
    "\n",
    "**Expected outcomes and significance:**\n",
    "\n",
    " 1. What do you expect to find?\n",
    " 2. What impact could such findings have?\n",
    " 3. What future questions could this lead to?"
   ]
  },
  {
   "cell_type": "markdown",
   "id": "bec8af31-f455-46f0-8677-4b7775d90d2d",
   "metadata": {},
   "source": [
    "#### LIBRARY DOWNLOADS:"
   ]
  },
  {
   "cell_type": "code",
   "execution_count": 4,
   "id": "449334bc-5a40-48d0-9187-2c47cb6b9520",
   "metadata": {
    "tags": []
   },
   "outputs": [
    {
     "name": "stderr",
     "output_type": "stream",
     "text": [
      "── \u001b[1mAttaching packages\u001b[22m ─────────────────────────────────────── tidyverse 1.3.2 ──\n",
      "\u001b[32m✔\u001b[39m \u001b[34mggplot2\u001b[39m 3.4.2     \u001b[32m✔\u001b[39m \u001b[34mpurrr  \u001b[39m 1.0.1\n",
      "\u001b[32m✔\u001b[39m \u001b[34mtibble \u001b[39m 3.2.1     \u001b[32m✔\u001b[39m \u001b[34mdplyr  \u001b[39m 1.1.1\n",
      "\u001b[32m✔\u001b[39m \u001b[34mtidyr  \u001b[39m 1.3.0     \u001b[32m✔\u001b[39m \u001b[34mstringr\u001b[39m 1.5.0\n",
      "\u001b[32m✔\u001b[39m \u001b[34mreadr  \u001b[39m 2.1.3     \u001b[32m✔\u001b[39m \u001b[34mforcats\u001b[39m 0.5.2\n",
      "── \u001b[1mConflicts\u001b[22m ────────────────────────────────────────── tidyverse_conflicts() ──\n",
      "\u001b[31m✖\u001b[39m \u001b[34mdplyr\u001b[39m::\u001b[32mfilter()\u001b[39m masks \u001b[34mstats\u001b[39m::filter()\n",
      "\u001b[31m✖\u001b[39m \u001b[34mdplyr\u001b[39m::\u001b[32mlag()\u001b[39m    masks \u001b[34mstats\u001b[39m::lag()\n",
      "── \u001b[1mAttaching packages\u001b[22m ────────────────────────────────────── tidymodels 1.0.0 ──\n",
      "\n",
      "\u001b[32m✔\u001b[39m \u001b[34mbroom       \u001b[39m 1.0.2     \u001b[32m✔\u001b[39m \u001b[34mrsample     \u001b[39m 1.1.1\n",
      "\u001b[32m✔\u001b[39m \u001b[34mdials       \u001b[39m 1.1.0     \u001b[32m✔\u001b[39m \u001b[34mtune        \u001b[39m 1.0.1\n",
      "\u001b[32m✔\u001b[39m \u001b[34minfer       \u001b[39m 1.0.4     \u001b[32m✔\u001b[39m \u001b[34mworkflows   \u001b[39m 1.1.2\n",
      "\u001b[32m✔\u001b[39m \u001b[34mmodeldata   \u001b[39m 1.0.1     \u001b[32m✔\u001b[39m \u001b[34mworkflowsets\u001b[39m 1.0.0\n",
      "\u001b[32m✔\u001b[39m \u001b[34mparsnip     \u001b[39m 1.0.3     \u001b[32m✔\u001b[39m \u001b[34myardstick   \u001b[39m 1.1.0\n",
      "\u001b[32m✔\u001b[39m \u001b[34mrecipes     \u001b[39m 1.0.4     \n",
      "\n",
      "── \u001b[1mConflicts\u001b[22m ───────────────────────────────────────── tidymodels_conflicts() ──\n",
      "\u001b[31m✖\u001b[39m \u001b[34mscales\u001b[39m::\u001b[32mdiscard()\u001b[39m masks \u001b[34mpurrr\u001b[39m::discard()\n",
      "\u001b[31m✖\u001b[39m \u001b[34mdplyr\u001b[39m::\u001b[32mfilter()\u001b[39m   masks \u001b[34mstats\u001b[39m::filter()\n",
      "\u001b[31m✖\u001b[39m \u001b[34mrecipes\u001b[39m::\u001b[32mfixed()\u001b[39m  masks \u001b[34mstringr\u001b[39m::fixed()\n",
      "\u001b[31m✖\u001b[39m \u001b[34mdplyr\u001b[39m::\u001b[32mlag()\u001b[39m      masks \u001b[34mstats\u001b[39m::lag()\n",
      "\u001b[31m✖\u001b[39m \u001b[34myardstick\u001b[39m::\u001b[32mspec()\u001b[39m masks \u001b[34mreadr\u001b[39m::spec()\n",
      "\u001b[31m✖\u001b[39m \u001b[34mrecipes\u001b[39m::\u001b[32mstep()\u001b[39m   masks \u001b[34mstats\u001b[39m::step()\n",
      "\u001b[34m•\u001b[39m Search for functions across packages at \u001b[32mhttps://www.tidymodels.org/find/\u001b[39m\n",
      "\n"
     ]
    }
   ],
   "source": [
    "library(tidyverse)\n",
    "library(repr)\n",
    "library(tidymodels)\n",
    "options(repr.matrix.max.rows = 6)"
   ]
  },
  {
   "cell_type": "markdown",
   "id": "94806952-9200-4b4a-b262-c6899a05e2ab",
   "metadata": {},
   "source": [
    "#### GIT READING: "
   ]
  },
  {
   "cell_type": "code",
   "execution_count": 5,
   "id": "9629e219-a349-4feb-a698-0effb2a377b4",
   "metadata": {
    "tags": []
   },
   "outputs": [],
   "source": [
    "download.file(\"https://raw.githubusercontent.com/ireneberezin/DSCI-PROJECT-38/main/data/crime.csv\", \"crime_data.csv\")"
   ]
  },
  {
   "cell_type": "code",
   "execution_count": 9,
   "id": "5bbea88a-9038-435e-abc0-56118eb245d3",
   "metadata": {
    "tags": []
   },
   "outputs": [
    {
     "ename": "ERROR",
     "evalue": "Error: 'crime_data.csv' does not exist in current working directory ('').\n",
     "output_type": "error",
     "traceback": [
      "Error: 'crime_data.csv' does not exist in current working directory ('').\nTraceback:\n",
      "1. read_csv(\"crime_data.csv\")",
      "2. vroom::vroom(file, delim = \",\", col_names = col_names, col_types = col_types, \n .     col_select = {\n .         {\n .             col_select\n .         }\n .     }, id = id, .name_repair = name_repair, skip = skip, n_max = n_max, \n .     na = na, quote = quote, comment = comment, skip_empty_rows = skip_empty_rows, \n .     trim_ws = trim_ws, escape_double = TRUE, escape_backslash = FALSE, \n .     locale = locale, guess_max = guess_max, show_col_types = show_col_types, \n .     progress = progress, altrep = lazy, num_threads = num_threads)",
      "3. vroom_(file, delim = delim %||% col_types$delim, col_names = col_names, \n .     col_types = col_types, id = id, skip = skip, col_select = col_select, \n .     name_repair = .name_repair, na = na, quote = quote, trim_ws = trim_ws, \n .     escape_double = escape_double, escape_backslash = escape_backslash, \n .     comment = comment, skip_empty_rows = skip_empty_rows, locale = locale, \n .     guess_max = guess_max, n_max = n_max, altrep = vroom_altrep(altrep), \n .     num_threads = num_threads, progress = progress)",
      "4. (function (path, write = FALSE) \n . {\n .     if (is.raw(path)) {\n .         return(rawConnection(path, \"rb\"))\n .     }\n .     if (!is.character(path)) {\n .         return(path)\n .     }\n .     if (is_url(path)) {\n .         if (requireNamespace(\"curl\", quietly = TRUE)) {\n .             con <- curl::curl(path)\n .         }\n .         else {\n .             rlang::inform(\"`curl` package not installed, falling back to using `url()`\")\n .             con <- url(path)\n .         }\n .         ext <- tolower(tools::file_ext(path))\n .         return(switch(ext, zip = , bz2 = , xz = {\n .             close(con)\n .             stop(\"Reading from remote `\", ext, \"` compressed files is not supported,\\n\", \n .                 \"  download the files locally first.\", call. = FALSE)\n .         }, gz = gzcon(con), con))\n .     }\n .     path <- enc2utf8(path)\n .     p <- split_path_ext(basename_utf8(path))\n .     if (write) {\n .         path <- normalizePath_utf8(path, mustWork = FALSE)\n .     }\n .     else {\n .         path <- check_path(path)\n .     }\n .     if (rlang::is_installed(\"archive\")) {\n .         formats <- archive_formats(p$extension)\n .         extension <- p$extension\n .         while (is.null(formats) && nzchar(extension)) {\n .             extension <- split_path_ext(extension)$extension\n .             formats <- archive_formats(extension)\n .         }\n .         if (!is.null(formats)) {\n .             p$extension <- extension\n .             if (write) {\n .                 if (is.null(formats[[1]])) {\n .                   return(archive::file_write(path, filter = formats[[2]]))\n .                 }\n .                 return(archive::archive_write(path, p$path, format = formats[[1]], \n .                   filter = formats[[2]]))\n .             }\n .             if (is.null(formats[[1]])) {\n .                 return(archive::file_read(path, filter = formats[[2]]))\n .             }\n .             return(archive::archive_read(path, format = formats[[1]], \n .                 filter = formats[[2]]))\n .         }\n .     }\n .     if (!write) {\n .         compression <- detect_compression(path)\n .     }\n .     else {\n .         compression <- NA\n .     }\n .     if (is.na(compression)) {\n .         compression <- tools::file_ext(path)\n .     }\n .     if (write && compression == \"zip\") {\n .         stop(\"Can only read from, not write to, .zip\", call. = FALSE)\n .     }\n .     switch(compression, gz = gzfile(path, \"\"), bz2 = bzfile(path, \n .         \"\"), xz = xzfile(path, \"\"), zip = zipfile(path, \"\"), \n .         if (!has_trailing_newline(path)) {\n .             file(path)\n .         } else {\n .             path\n .         })\n . })(\"crime_data.csv\")",
      "5. check_path(path)",
      "6. stop(\"'\", path, \"' does not exist\", if (!is_absolute_path(path)) {\n .     paste0(\" in current working directory ('\", getwd(), \"')\")\n . }, \".\", call. = FALSE)"
     ]
    }
   ],
   "source": [
    "crime_data <- read_csv(\"crime_data.csv\")\n",
    "crime_data\n",
    "\n",
    "#TEST"
   ]
  },
  {
   "cell_type": "code",
   "execution_count": 32,
   "id": "1734432e-d48a-46b0-bb97-c40266e9a511",
   "metadata": {},
   "outputs": [
    {
     "data": {
      "text/html": [
       "<table class=\"dataframe\">\n",
       "<caption>A tibble: 16205 × 12</caption>\n",
       "<thead>\n",
       "\t<tr><th scope=col>TYPE</th><th scope=col>YEAR</th><th scope=col>MONTH</th><th scope=col>DAY</th><th scope=col>HOUR</th><th scope=col>MINUTE</th><th scope=col>HUNDRED_BLOCK</th><th scope=col>NEIGHBOURHOOD</th><th scope=col>X</th><th scope=col>Y</th><th scope=col>Latitude</th><th scope=col>Longitude</th></tr>\n",
       "\t<tr><th scope=col>&lt;chr&gt;</th><th scope=col>&lt;dbl&gt;</th><th scope=col>&lt;dbl&gt;</th><th scope=col>&lt;dbl&gt;</th><th scope=col>&lt;dbl&gt;</th><th scope=col>&lt;dbl&gt;</th><th scope=col>&lt;chr&gt;</th><th scope=col>&lt;chr&gt;</th><th scope=col>&lt;dbl&gt;</th><th scope=col>&lt;dbl&gt;</th><th scope=col>&lt;dbl&gt;</th><th scope=col>&lt;dbl&gt;</th></tr>\n",
       "</thead>\n",
       "<tbody>\n",
       "\t<tr><td>Theft from Vehicle</td><td>2017</td><td>5</td><td> 3</td><td> 9</td><td>33</td><td>13XX ALBERNI ST</td><td>West End                 </td><td>490724.2</td><td>5459449</td><td>49.28772</td><td>-123.1276</td></tr>\n",
       "\t<tr><td>Theft from Vehicle</td><td>2017</td><td>3</td><td>26</td><td> 4</td><td>47</td><td>35XX ETON ST   </td><td>Hastings-Sunrise         </td><td>497991.3</td><td>5459437</td><td>49.28768</td><td>-123.0276</td></tr>\n",
       "\t<tr><td>Theft of Bicycle  </td><td>2017</td><td>6</td><td> 3</td><td>12</td><td>30</td><td>11XX HOWE ST   </td><td>Central Business District</td><td>490823.3</td><td>5458429</td><td>49.27854</td><td>-123.1262</td></tr>\n",
       "\t<tr><td>⋮</td><td>⋮</td><td>⋮</td><td>⋮</td><td>⋮</td><td>⋮</td><td>⋮</td><td>⋮</td><td>⋮</td><td>⋮</td><td>⋮</td><td>⋮</td></tr>\n",
       "\t<tr><td>Mischief                                            </td><td>2017</td><td>5</td><td>29</td><td>22</td><td>30</td><td>14XX E 7TH AVE    </td><td>Grandview-Woodland       </td><td>494534.0</td><td>5456825</td><td>49.26416</td><td>-123.0751</td></tr>\n",
       "\t<tr><td>Theft from Vehicle                                  </td><td>2017</td><td>6</td><td> 5</td><td>17</td><td> 0</td><td>8XX HAMILTON ST   </td><td>Central Business District</td><td>491487.8</td><td>5458386</td><td>49.27817</td><td>-123.1170</td></tr>\n",
       "\t<tr><td>Vehicle Collision or Pedestrian Struck (with Injury)</td><td>2017</td><td>6</td><td> 6</td><td>17</td><td>38</td><td>13XX BLOCK PARK DR</td><td>Marpole                  </td><td>490204.0</td><td>5451444</td><td>49.21571</td><td>-123.1345</td></tr>\n",
       "</tbody>\n",
       "</table>\n"
      ],
      "text/latex": [
       "A tibble: 16205 × 12\n",
       "\\begin{tabular}{llllllllllll}\n",
       " TYPE & YEAR & MONTH & DAY & HOUR & MINUTE & HUNDRED\\_BLOCK & NEIGHBOURHOOD & X & Y & Latitude & Longitude\\\\\n",
       " <chr> & <dbl> & <dbl> & <dbl> & <dbl> & <dbl> & <chr> & <chr> & <dbl> & <dbl> & <dbl> & <dbl>\\\\\n",
       "\\hline\n",
       "\t Theft from Vehicle & 2017 & 5 &  3 &  9 & 33 & 13XX ALBERNI ST & West End                  & 490724.2 & 5459449 & 49.28772 & -123.1276\\\\\n",
       "\t Theft from Vehicle & 2017 & 3 & 26 &  4 & 47 & 35XX ETON ST    & Hastings-Sunrise          & 497991.3 & 5459437 & 49.28768 & -123.0276\\\\\n",
       "\t Theft of Bicycle   & 2017 & 6 &  3 & 12 & 30 & 11XX HOWE ST    & Central Business District & 490823.3 & 5458429 & 49.27854 & -123.1262\\\\\n",
       "\t ⋮ & ⋮ & ⋮ & ⋮ & ⋮ & ⋮ & ⋮ & ⋮ & ⋮ & ⋮ & ⋮ & ⋮\\\\\n",
       "\t Mischief                                             & 2017 & 5 & 29 & 22 & 30 & 14XX E 7TH AVE     & Grandview-Woodland        & 494534.0 & 5456825 & 49.26416 & -123.0751\\\\\n",
       "\t Theft from Vehicle                                   & 2017 & 6 &  5 & 17 &  0 & 8XX HAMILTON ST    & Central Business District & 491487.8 & 5458386 & 49.27817 & -123.1170\\\\\n",
       "\t Vehicle Collision or Pedestrian Struck (with Injury) & 2017 & 6 &  6 & 17 & 38 & 13XX BLOCK PARK DR & Marpole                   & 490204.0 & 5451444 & 49.21571 & -123.1345\\\\\n",
       "\\end{tabular}\n"
      ],
      "text/markdown": [
       "\n",
       "A tibble: 16205 × 12\n",
       "\n",
       "| TYPE &lt;chr&gt; | YEAR &lt;dbl&gt; | MONTH &lt;dbl&gt; | DAY &lt;dbl&gt; | HOUR &lt;dbl&gt; | MINUTE &lt;dbl&gt; | HUNDRED_BLOCK &lt;chr&gt; | NEIGHBOURHOOD &lt;chr&gt; | X &lt;dbl&gt; | Y &lt;dbl&gt; | Latitude &lt;dbl&gt; | Longitude &lt;dbl&gt; |\n",
       "|---|---|---|---|---|---|---|---|---|---|---|---|\n",
       "| Theft from Vehicle | 2017 | 5 |  3 |  9 | 33 | 13XX ALBERNI ST | West End                  | 490724.2 | 5459449 | 49.28772 | -123.1276 |\n",
       "| Theft from Vehicle | 2017 | 3 | 26 |  4 | 47 | 35XX ETON ST    | Hastings-Sunrise          | 497991.3 | 5459437 | 49.28768 | -123.0276 |\n",
       "| Theft of Bicycle   | 2017 | 6 |  3 | 12 | 30 | 11XX HOWE ST    | Central Business District | 490823.3 | 5458429 | 49.27854 | -123.1262 |\n",
       "| ⋮ | ⋮ | ⋮ | ⋮ | ⋮ | ⋮ | ⋮ | ⋮ | ⋮ | ⋮ | ⋮ | ⋮ |\n",
       "| Mischief                                             | 2017 | 5 | 29 | 22 | 30 | 14XX E 7TH AVE     | Grandview-Woodland        | 494534.0 | 5456825 | 49.26416 | -123.0751 |\n",
       "| Theft from Vehicle                                   | 2017 | 6 |  5 | 17 |  0 | 8XX HAMILTON ST    | Central Business District | 491487.8 | 5458386 | 49.27817 | -123.1170 |\n",
       "| Vehicle Collision or Pedestrian Struck (with Injury) | 2017 | 6 |  6 | 17 | 38 | 13XX BLOCK PARK DR | Marpole                   | 490204.0 | 5451444 | 49.21571 | -123.1345 |\n",
       "\n"
      ],
      "text/plain": [
       "      TYPE                                                 YEAR MONTH DAY HOUR\n",
       "1     Theft from Vehicle                                   2017 5      3   9  \n",
       "2     Theft from Vehicle                                   2017 3     26   4  \n",
       "3     Theft of Bicycle                                     2017 6      3  12  \n",
       "⋮     ⋮                                                    ⋮    ⋮     ⋮   ⋮   \n",
       "16203 Mischief                                             2017 5     29  22  \n",
       "16204 Theft from Vehicle                                   2017 6      5  17  \n",
       "16205 Vehicle Collision or Pedestrian Struck (with Injury) 2017 6      6  17  \n",
       "      MINUTE HUNDRED_BLOCK      NEIGHBOURHOOD             X        Y      \n",
       "1     33     13XX ALBERNI ST    West End                  490724.2 5459449\n",
       "2     47     35XX ETON ST       Hastings-Sunrise          497991.3 5459437\n",
       "3     30     11XX HOWE ST       Central Business District 490823.3 5458429\n",
       "⋮     ⋮      ⋮                  ⋮                         ⋮        ⋮      \n",
       "16203 30     14XX E 7TH AVE     Grandview-Woodland        494534.0 5456825\n",
       "16204  0     8XX HAMILTON ST    Central Business District 491487.8 5458386\n",
       "16205 38     13XX BLOCK PARK DR Marpole                   490204.0 5451444\n",
       "      Latitude Longitude\n",
       "1     49.28772 -123.1276\n",
       "2     49.28768 -123.0276\n",
       "3     49.27854 -123.1262\n",
       "⋮     ⋮        ⋮        \n",
       "16203 49.26416 -123.0751\n",
       "16204 49.27817 -123.1170\n",
       "16205 49.21571 -123.1345"
      ]
     },
     "metadata": {},
     "output_type": "display_data"
    }
   ],
   "source": [
    "crime_data_filtered <- crime_data |>\n",
    "filter(YEAR == 2017) |>\n",
    "drop_na()\n",
    "crime_data_filtered"
   ]
  },
  {
   "cell_type": "markdown",
   "id": "f66c8da7-0a3d-4b20-8faf-df9b7e12e47a",
   "metadata": {},
   "source": [
    "git_test_sprihaa"
   ]
  }
 ],
 "metadata": {
  "kernelspec": {
   "display_name": "R",
   "language": "R",
   "name": "ir"
  },
  "language_info": {
   "codemirror_mode": "r",
   "file_extension": ".r",
   "mimetype": "text/x-r-source",
   "name": "R",
   "pygments_lexer": "r",
   "version": "4.2.2"
  }
 },
 "nbformat": 4,
 "nbformat_minor": 5
}
