{
 "cells": [
  {
   "cell_type": "markdown",
   "id": "e10cedba-0f25-4f01-ac2d-1b196879a358",
   "metadata": {},
   "source": [
    "This is the file that contains our data that we read off of github"
   ]
  },
  {
   "cell_type": "code",
   "execution_count": 3,
   "id": "c2ecc387-3c22-4369-aa95-35df5d123ab9",
   "metadata": {
    "tags": []
   },
   "outputs": [
    {
     "name": "stderr",
     "output_type": "stream",
     "text": [
      "── \u001b[1mAttaching packages\u001b[22m ─────────────────────────────────────── tidyverse 1.3.2 ──\n",
      "\u001b[32m✔\u001b[39m \u001b[34mggplot2\u001b[39m 3.4.2     \u001b[32m✔\u001b[39m \u001b[34mpurrr  \u001b[39m 1.0.1\n",
      "\u001b[32m✔\u001b[39m \u001b[34mtibble \u001b[39m 3.2.1     \u001b[32m✔\u001b[39m \u001b[34mdplyr  \u001b[39m 1.1.1\n",
      "\u001b[32m✔\u001b[39m \u001b[34mtidyr  \u001b[39m 1.3.0     \u001b[32m✔\u001b[39m \u001b[34mstringr\u001b[39m 1.5.0\n",
      "\u001b[32m✔\u001b[39m \u001b[34mreadr  \u001b[39m 2.1.3     \u001b[32m✔\u001b[39m \u001b[34mforcats\u001b[39m 0.5.2\n",
      "── \u001b[1mConflicts\u001b[22m ────────────────────────────────────────── tidyverse_conflicts() ──\n",
      "\u001b[31m✖\u001b[39m \u001b[34mdplyr\u001b[39m::\u001b[32mfilter()\u001b[39m masks \u001b[34mstats\u001b[39m::filter()\n",
      "\u001b[31m✖\u001b[39m \u001b[34mdplyr\u001b[39m::\u001b[32mlag()\u001b[39m    masks \u001b[34mstats\u001b[39m::lag()\n"
     ]
    }
   ],
   "source": [
    "library(tidyverse)"
   ]
  },
  {
   "cell_type": "code",
   "execution_count": 4,
   "id": "1498dc8c-1943-4a77-8ebc-8c11ea9ec5bc",
   "metadata": {},
   "outputs": [
    {
     "name": "stderr",
     "output_type": "stream",
     "text": [
      "── \u001b[1mAttaching packages\u001b[22m ────────────────────────────────────── tidymodels 1.0.0 ──\n",
      "\n",
      "\u001b[32m✔\u001b[39m \u001b[34mbroom       \u001b[39m 1.0.2     \u001b[32m✔\u001b[39m \u001b[34mrsample     \u001b[39m 1.1.1\n",
      "\u001b[32m✔\u001b[39m \u001b[34mdials       \u001b[39m 1.1.0     \u001b[32m✔\u001b[39m \u001b[34mtune        \u001b[39m 1.0.1\n",
      "\u001b[32m✔\u001b[39m \u001b[34minfer       \u001b[39m 1.0.4     \u001b[32m✔\u001b[39m \u001b[34mworkflows   \u001b[39m 1.1.2\n",
      "\u001b[32m✔\u001b[39m \u001b[34mmodeldata   \u001b[39m 1.0.1     \u001b[32m✔\u001b[39m \u001b[34mworkflowsets\u001b[39m 1.0.0\n",
      "\u001b[32m✔\u001b[39m \u001b[34mparsnip     \u001b[39m 1.0.3     \u001b[32m✔\u001b[39m \u001b[34myardstick   \u001b[39m 1.1.0\n",
      "\u001b[32m✔\u001b[39m \u001b[34mrecipes     \u001b[39m 1.0.4     \n",
      "\n",
      "── \u001b[1mConflicts\u001b[22m ───────────────────────────────────────── tidymodels_conflicts() ──\n",
      "\u001b[31m✖\u001b[39m \u001b[34mscales\u001b[39m::\u001b[32mdiscard()\u001b[39m masks \u001b[34mpurrr\u001b[39m::discard()\n",
      "\u001b[31m✖\u001b[39m \u001b[34mdplyr\u001b[39m::\u001b[32mfilter()\u001b[39m   masks \u001b[34mstats\u001b[39m::filter()\n",
      "\u001b[31m✖\u001b[39m \u001b[34mrecipes\u001b[39m::\u001b[32mfixed()\u001b[39m  masks \u001b[34mstringr\u001b[39m::fixed()\n",
      "\u001b[31m✖\u001b[39m \u001b[34mdplyr\u001b[39m::\u001b[32mlag()\u001b[39m      masks \u001b[34mstats\u001b[39m::lag()\n",
      "\u001b[31m✖\u001b[39m \u001b[34myardstick\u001b[39m::\u001b[32mspec()\u001b[39m masks \u001b[34mreadr\u001b[39m::spec()\n",
      "\u001b[31m✖\u001b[39m \u001b[34mrecipes\u001b[39m::\u001b[32mstep()\u001b[39m   masks \u001b[34mstats\u001b[39m::step()\n",
      "\u001b[34m•\u001b[39m Search for functions across packages at \u001b[32mhttps://www.tidymodels.org/find/\u001b[39m\n",
      "\n"
     ]
    }
   ],
   "source": [
    "library(repr)\n",
    "library(tidymodels)\n",
    "options(repr.matrix.max.rows = 6)"
   ]
  },
  {
   "cell_type": "code",
   "execution_count": 4,
   "id": "12a53ee6-d5eb-4a0b-aaad-b29ea17393ad",
   "metadata": {
    "tags": []
   },
   "outputs": [],
   "source": [
    "library(readxl)"
   ]
  },
  {
   "cell_type": "code",
   "execution_count": 5,
   "id": "ec2966e3-f1ab-4721-ba24-28e7f475e018",
   "metadata": {
    "tags": []
   },
   "outputs": [
    {
     "name": "stderr",
     "output_type": "stream",
     "text": [
      "\u001b[1mRows: \u001b[22m\u001b[34m530652\u001b[39m \u001b[1mColumns: \u001b[22m\u001b[34m12\u001b[39m\n",
      "\u001b[36m──\u001b[39m \u001b[1mColumn specification\u001b[22m \u001b[36m────────────────────────────────────────────────────────\u001b[39m\n",
      "\u001b[1mDelimiter:\u001b[22m \",\"\n",
      "\u001b[31mchr\u001b[39m (3): TYPE, HUNDRED_BLOCK, NEIGHBOURHOOD\n",
      "\u001b[32mdbl\u001b[39m (9): YEAR, MONTH, DAY, HOUR, MINUTE, X, Y, Latitude, Longitude\n",
      "\n",
      "\u001b[36mℹ\u001b[39m Use `spec()` to retrieve the full column specification for this data.\n",
      "\u001b[36mℹ\u001b[39m Specify the column types or set `show_col_types = FALSE` to quiet this message.\n"
     ]
    },
    {
     "data": {
      "text/html": [
       "<table class=\"dataframe\">\n",
       "<caption>A spec_tbl_df: 530652 × 12</caption>\n",
       "<thead>\n",
       "\t<tr><th scope=col>TYPE</th><th scope=col>YEAR</th><th scope=col>MONTH</th><th scope=col>DAY</th><th scope=col>HOUR</th><th scope=col>MINUTE</th><th scope=col>HUNDRED_BLOCK</th><th scope=col>NEIGHBOURHOOD</th><th scope=col>X</th><th scope=col>Y</th><th scope=col>Latitude</th><th scope=col>Longitude</th></tr>\n",
       "\t<tr><th scope=col>&lt;chr&gt;</th><th scope=col>&lt;dbl&gt;</th><th scope=col>&lt;dbl&gt;</th><th scope=col>&lt;dbl&gt;</th><th scope=col>&lt;dbl&gt;</th><th scope=col>&lt;dbl&gt;</th><th scope=col>&lt;chr&gt;</th><th scope=col>&lt;chr&gt;</th><th scope=col>&lt;dbl&gt;</th><th scope=col>&lt;dbl&gt;</th><th scope=col>&lt;dbl&gt;</th><th scope=col>&lt;dbl&gt;</th></tr>\n",
       "</thead>\n",
       "<tbody>\n",
       "\t<tr><td>Other Theft</td><td>2003</td><td>5</td><td>12</td><td>16</td><td>15</td><td>9XX TERMINAL AVE</td><td>Strathcona</td><td>493906.5</td><td>5457452</td><td>49.2698</td><td>-123.0838</td></tr>\n",
       "\t<tr><td>Other Theft</td><td>2003</td><td>5</td><td> 7</td><td>15</td><td>20</td><td>9XX TERMINAL AVE</td><td>Strathcona</td><td>493906.5</td><td>5457452</td><td>49.2698</td><td>-123.0838</td></tr>\n",
       "\t<tr><td>Other Theft</td><td>2003</td><td>4</td><td>23</td><td>16</td><td>40</td><td>9XX TERMINAL AVE</td><td>Strathcona</td><td>493906.5</td><td>5457452</td><td>49.2698</td><td>-123.0838</td></tr>\n",
       "\t<tr><td>⋮</td><td>⋮</td><td>⋮</td><td>⋮</td><td>⋮</td><td>⋮</td><td>⋮</td><td>⋮</td><td>⋮</td><td>⋮</td><td>⋮</td><td>⋮</td></tr>\n",
       "\t<tr><td>Offence Against a Person                            </td><td>2017</td><td>4</td><td>13</td><td>NA</td><td>NA</td><td>OFFSET TO PROTECT PRIVACY</td><td>NA                       </td><td>     0.0</td><td>      0</td><td> 0.00000</td><td>   0.0000</td></tr>\n",
       "\t<tr><td>Theft from Vehicle                                  </td><td>2017</td><td>6</td><td> 5</td><td>17</td><td> 0</td><td>8XX HAMILTON ST          </td><td>Central Business District</td><td>491487.8</td><td>5458386</td><td>49.27817</td><td>-123.1170</td></tr>\n",
       "\t<tr><td>Vehicle Collision or Pedestrian Struck (with Injury)</td><td>2017</td><td>6</td><td> 6</td><td>17</td><td>38</td><td>13XX BLOCK PARK DR       </td><td>Marpole                  </td><td>490204.0</td><td>5451444</td><td>49.21571</td><td>-123.1345</td></tr>\n",
       "</tbody>\n",
       "</table>\n"
      ],
      "text/latex": [
       "A spec\\_tbl\\_df: 530652 × 12\n",
       "\\begin{tabular}{llllllllllll}\n",
       " TYPE & YEAR & MONTH & DAY & HOUR & MINUTE & HUNDRED\\_BLOCK & NEIGHBOURHOOD & X & Y & Latitude & Longitude\\\\\n",
       " <chr> & <dbl> & <dbl> & <dbl> & <dbl> & <dbl> & <chr> & <chr> & <dbl> & <dbl> & <dbl> & <dbl>\\\\\n",
       "\\hline\n",
       "\t Other Theft & 2003 & 5 & 12 & 16 & 15 & 9XX TERMINAL AVE & Strathcona & 493906.5 & 5457452 & 49.2698 & -123.0838\\\\\n",
       "\t Other Theft & 2003 & 5 &  7 & 15 & 20 & 9XX TERMINAL AVE & Strathcona & 493906.5 & 5457452 & 49.2698 & -123.0838\\\\\n",
       "\t Other Theft & 2003 & 4 & 23 & 16 & 40 & 9XX TERMINAL AVE & Strathcona & 493906.5 & 5457452 & 49.2698 & -123.0838\\\\\n",
       "\t ⋮ & ⋮ & ⋮ & ⋮ & ⋮ & ⋮ & ⋮ & ⋮ & ⋮ & ⋮ & ⋮ & ⋮\\\\\n",
       "\t Offence Against a Person                             & 2017 & 4 & 13 & NA & NA & OFFSET TO PROTECT PRIVACY & NA                        &      0.0 &       0 &  0.00000 &    0.0000\\\\\n",
       "\t Theft from Vehicle                                   & 2017 & 6 &  5 & 17 &  0 & 8XX HAMILTON ST           & Central Business District & 491487.8 & 5458386 & 49.27817 & -123.1170\\\\\n",
       "\t Vehicle Collision or Pedestrian Struck (with Injury) & 2017 & 6 &  6 & 17 & 38 & 13XX BLOCK PARK DR        & Marpole                   & 490204.0 & 5451444 & 49.21571 & -123.1345\\\\\n",
       "\\end{tabular}\n"
      ],
      "text/markdown": [
       "\n",
       "A spec_tbl_df: 530652 × 12\n",
       "\n",
       "| TYPE &lt;chr&gt; | YEAR &lt;dbl&gt; | MONTH &lt;dbl&gt; | DAY &lt;dbl&gt; | HOUR &lt;dbl&gt; | MINUTE &lt;dbl&gt; | HUNDRED_BLOCK &lt;chr&gt; | NEIGHBOURHOOD &lt;chr&gt; | X &lt;dbl&gt; | Y &lt;dbl&gt; | Latitude &lt;dbl&gt; | Longitude &lt;dbl&gt; |\n",
       "|---|---|---|---|---|---|---|---|---|---|---|---|\n",
       "| Other Theft | 2003 | 5 | 12 | 16 | 15 | 9XX TERMINAL AVE | Strathcona | 493906.5 | 5457452 | 49.2698 | -123.0838 |\n",
       "| Other Theft | 2003 | 5 |  7 | 15 | 20 | 9XX TERMINAL AVE | Strathcona | 493906.5 | 5457452 | 49.2698 | -123.0838 |\n",
       "| Other Theft | 2003 | 4 | 23 | 16 | 40 | 9XX TERMINAL AVE | Strathcona | 493906.5 | 5457452 | 49.2698 | -123.0838 |\n",
       "| ⋮ | ⋮ | ⋮ | ⋮ | ⋮ | ⋮ | ⋮ | ⋮ | ⋮ | ⋮ | ⋮ | ⋮ |\n",
       "| Offence Against a Person                             | 2017 | 4 | 13 | NA | NA | OFFSET TO PROTECT PRIVACY | NA                        |      0.0 |       0 |  0.00000 |    0.0000 |\n",
       "| Theft from Vehicle                                   | 2017 | 6 |  5 | 17 |  0 | 8XX HAMILTON ST           | Central Business District | 491487.8 | 5458386 | 49.27817 | -123.1170 |\n",
       "| Vehicle Collision or Pedestrian Struck (with Injury) | 2017 | 6 |  6 | 17 | 38 | 13XX BLOCK PARK DR        | Marpole                   | 490204.0 | 5451444 | 49.21571 | -123.1345 |\n",
       "\n"
      ],
      "text/plain": [
       "       TYPE                                                 YEAR MONTH DAY HOUR\n",
       "1      Other Theft                                          2003 5     12  16  \n",
       "2      Other Theft                                          2003 5      7  15  \n",
       "3      Other Theft                                          2003 4     23  16  \n",
       "⋮      ⋮                                                    ⋮    ⋮     ⋮   ⋮   \n",
       "530650 Offence Against a Person                             2017 4     13  NA  \n",
       "530651 Theft from Vehicle                                   2017 6      5  17  \n",
       "530652 Vehicle Collision or Pedestrian Struck (with Injury) 2017 6      6  17  \n",
       "       MINUTE HUNDRED_BLOCK             NEIGHBOURHOOD             X       \n",
       "1      15     9XX TERMINAL AVE          Strathcona                493906.5\n",
       "2      20     9XX TERMINAL AVE          Strathcona                493906.5\n",
       "3      40     9XX TERMINAL AVE          Strathcona                493906.5\n",
       "⋮      ⋮      ⋮                         ⋮                         ⋮       \n",
       "530650 NA     OFFSET TO PROTECT PRIVACY NA                             0.0\n",
       "530651  0     8XX HAMILTON ST           Central Business District 491487.8\n",
       "530652 38     13XX BLOCK PARK DR        Marpole                   490204.0\n",
       "       Y       Latitude Longitude\n",
       "1      5457452 49.2698  -123.0838\n",
       "2      5457452 49.2698  -123.0838\n",
       "3      5457452 49.2698  -123.0838\n",
       "⋮      ⋮       ⋮        ⋮        \n",
       "530650       0  0.00000    0.0000\n",
       "530651 5458386 49.27817 -123.1170\n",
       "530652 5451444 49.21571 -123.1345"
      ]
     },
     "metadata": {},
     "output_type": "display_data"
    }
   ],
   "source": [
    "crime_data_uncut <- read_csv(\"crime.csv\")\n",
    "crime_data_uncut"
   ]
  },
  {
   "cell_type": "code",
   "execution_count": 7,
   "id": "27ef613a-a4f8-4833-a475-526d00b1d4ce",
   "metadata": {},
   "outputs": [
    {
     "name": "stderr",
     "output_type": "stream",
     "text": [
      "\u001b[1mRows: \u001b[22m\u001b[34m530652\u001b[39m \u001b[1mColumns: \u001b[22m\u001b[34m12\u001b[39m\n",
      "\u001b[36m──\u001b[39m \u001b[1mColumn specification\u001b[22m \u001b[36m────────────────────────────────────────────────────────\u001b[39m\n",
      "\u001b[1mDelimiter:\u001b[22m \",\"\n",
      "\u001b[31mchr\u001b[39m (3): TYPE, HUNDRED_BLOCK, NEIGHBOURHOOD\n",
      "\u001b[32mdbl\u001b[39m (9): YEAR, MONTH, DAY, HOUR, MINUTE, X, Y, Latitude, Longitude\n",
      "\n",
      "\u001b[36mℹ\u001b[39m Use `spec()` to retrieve the full column specification for this data.\n",
      "\u001b[36mℹ\u001b[39m Specify the column types or set `show_col_types = FALSE` to quiet this message.\n"
     ]
    }
   ],
   "source": [
    "download.file(\"https://raw.githubusercontent.com/ireneberezin/DSCI-PROJECT-38/main/data/crime.csv\", \"crime_data.csv\")\n",
    "test_data <- read_csv(\"crime_data.csv\")"
   ]
  },
  {
   "cell_type": "code",
   "execution_count": 11,
   "id": "a1165424-daa6-4ffd-8083-5bddcfa118b8",
   "metadata": {
    "tags": []
   },
   "outputs": [
    {
     "ename": "ERROR",
     "evalue": "Error in kgl_auth(creds_file = \"kaggle.json\"): could not find function \"kgl_auth\"\n",
     "output_type": "error",
     "traceback": [
      "Error in kgl_auth(creds_file = \"kaggle.json\"): could not find function \"kgl_auth\"\nTraceback:\n"
     ]
    }
   ],
   "source": []
  },
  {
   "cell_type": "code",
   "execution_count": 8,
   "id": "0bf9f6a2-fe28-4824-81af-1a0f0d37efdd",
   "metadata": {},
   "outputs": [
    {
     "name": "stderr",
     "output_type": "stream",
     "text": [
      "\u001b[1mRows: \u001b[22m\u001b[34m530652\u001b[39m \u001b[1mColumns: \u001b[22m\u001b[34m12\u001b[39m\n",
      "\u001b[36m──\u001b[39m \u001b[1mColumn specification\u001b[22m \u001b[36m────────────────────────────────────────────────────────\u001b[39m\n",
      "\u001b[1mDelimiter:\u001b[22m \",\"\n",
      "\u001b[31mchr\u001b[39m (3): TYPE, HUNDRED_BLOCK, NEIGHBOURHOOD\n",
      "\u001b[32mdbl\u001b[39m (9): YEAR, MONTH, DAY, HOUR, MINUTE, X, Y, Latitude, Longitude\n",
      "\n",
      "\u001b[36mℹ\u001b[39m Use `spec()` to retrieve the full column specification for this data.\n",
      "\u001b[36mℹ\u001b[39m Specify the column types or set `show_col_types = FALSE` to quiet this message.\n"
     ]
    },
    {
     "data": {
      "text/html": [
       "<table class=\"dataframe\">\n",
       "<caption>A spec_tbl_df: 530652 × 12</caption>\n",
       "<thead>\n",
       "\t<tr><th scope=col>TYPE</th><th scope=col>YEAR</th><th scope=col>MONTH</th><th scope=col>DAY</th><th scope=col>HOUR</th><th scope=col>MINUTE</th><th scope=col>HUNDRED_BLOCK</th><th scope=col>NEIGHBOURHOOD</th><th scope=col>X</th><th scope=col>Y</th><th scope=col>Latitude</th><th scope=col>Longitude</th></tr>\n",
       "\t<tr><th scope=col>&lt;chr&gt;</th><th scope=col>&lt;dbl&gt;</th><th scope=col>&lt;dbl&gt;</th><th scope=col>&lt;dbl&gt;</th><th scope=col>&lt;dbl&gt;</th><th scope=col>&lt;dbl&gt;</th><th scope=col>&lt;chr&gt;</th><th scope=col>&lt;chr&gt;</th><th scope=col>&lt;dbl&gt;</th><th scope=col>&lt;dbl&gt;</th><th scope=col>&lt;dbl&gt;</th><th scope=col>&lt;dbl&gt;</th></tr>\n",
       "</thead>\n",
       "<tbody>\n",
       "\t<tr><td>Other Theft</td><td>2003</td><td>5</td><td>12</td><td>16</td><td>15</td><td>9XX TERMINAL AVE</td><td>Strathcona</td><td>493906.5</td><td>5457452</td><td>49.2698</td><td>-123.0838</td></tr>\n",
       "\t<tr><td>Other Theft</td><td>2003</td><td>5</td><td> 7</td><td>15</td><td>20</td><td>9XX TERMINAL AVE</td><td>Strathcona</td><td>493906.5</td><td>5457452</td><td>49.2698</td><td>-123.0838</td></tr>\n",
       "\t<tr><td>Other Theft</td><td>2003</td><td>4</td><td>23</td><td>16</td><td>40</td><td>9XX TERMINAL AVE</td><td>Strathcona</td><td>493906.5</td><td>5457452</td><td>49.2698</td><td>-123.0838</td></tr>\n",
       "\t<tr><td>⋮</td><td>⋮</td><td>⋮</td><td>⋮</td><td>⋮</td><td>⋮</td><td>⋮</td><td>⋮</td><td>⋮</td><td>⋮</td><td>⋮</td><td>⋮</td></tr>\n",
       "\t<tr><td>Offence Against a Person                            </td><td>2017</td><td>4</td><td>13</td><td>NA</td><td>NA</td><td>OFFSET TO PROTECT PRIVACY</td><td>NA                       </td><td>     0.0</td><td>      0</td><td> 0.00000</td><td>   0.0000</td></tr>\n",
       "\t<tr><td>Theft from Vehicle                                  </td><td>2017</td><td>6</td><td> 5</td><td>17</td><td> 0</td><td>8XX HAMILTON ST          </td><td>Central Business District</td><td>491487.8</td><td>5458386</td><td>49.27817</td><td>-123.1170</td></tr>\n",
       "\t<tr><td>Vehicle Collision or Pedestrian Struck (with Injury)</td><td>2017</td><td>6</td><td> 6</td><td>17</td><td>38</td><td>13XX BLOCK PARK DR       </td><td>Marpole                  </td><td>490204.0</td><td>5451444</td><td>49.21571</td><td>-123.1345</td></tr>\n",
       "</tbody>\n",
       "</table>\n"
      ],
      "text/latex": [
       "A spec\\_tbl\\_df: 530652 × 12\n",
       "\\begin{tabular}{llllllllllll}\n",
       " TYPE & YEAR & MONTH & DAY & HOUR & MINUTE & HUNDRED\\_BLOCK & NEIGHBOURHOOD & X & Y & Latitude & Longitude\\\\\n",
       " <chr> & <dbl> & <dbl> & <dbl> & <dbl> & <dbl> & <chr> & <chr> & <dbl> & <dbl> & <dbl> & <dbl>\\\\\n",
       "\\hline\n",
       "\t Other Theft & 2003 & 5 & 12 & 16 & 15 & 9XX TERMINAL AVE & Strathcona & 493906.5 & 5457452 & 49.2698 & -123.0838\\\\\n",
       "\t Other Theft & 2003 & 5 &  7 & 15 & 20 & 9XX TERMINAL AVE & Strathcona & 493906.5 & 5457452 & 49.2698 & -123.0838\\\\\n",
       "\t Other Theft & 2003 & 4 & 23 & 16 & 40 & 9XX TERMINAL AVE & Strathcona & 493906.5 & 5457452 & 49.2698 & -123.0838\\\\\n",
       "\t ⋮ & ⋮ & ⋮ & ⋮ & ⋮ & ⋮ & ⋮ & ⋮ & ⋮ & ⋮ & ⋮ & ⋮\\\\\n",
       "\t Offence Against a Person                             & 2017 & 4 & 13 & NA & NA & OFFSET TO PROTECT PRIVACY & NA                        &      0.0 &       0 &  0.00000 &    0.0000\\\\\n",
       "\t Theft from Vehicle                                   & 2017 & 6 &  5 & 17 &  0 & 8XX HAMILTON ST           & Central Business District & 491487.8 & 5458386 & 49.27817 & -123.1170\\\\\n",
       "\t Vehicle Collision or Pedestrian Struck (with Injury) & 2017 & 6 &  6 & 17 & 38 & 13XX BLOCK PARK DR        & Marpole                   & 490204.0 & 5451444 & 49.21571 & -123.1345\\\\\n",
       "\\end{tabular}\n"
      ],
      "text/markdown": [
       "\n",
       "A spec_tbl_df: 530652 × 12\n",
       "\n",
       "| TYPE &lt;chr&gt; | YEAR &lt;dbl&gt; | MONTH &lt;dbl&gt; | DAY &lt;dbl&gt; | HOUR &lt;dbl&gt; | MINUTE &lt;dbl&gt; | HUNDRED_BLOCK &lt;chr&gt; | NEIGHBOURHOOD &lt;chr&gt; | X &lt;dbl&gt; | Y &lt;dbl&gt; | Latitude &lt;dbl&gt; | Longitude &lt;dbl&gt; |\n",
       "|---|---|---|---|---|---|---|---|---|---|---|---|\n",
       "| Other Theft | 2003 | 5 | 12 | 16 | 15 | 9XX TERMINAL AVE | Strathcona | 493906.5 | 5457452 | 49.2698 | -123.0838 |\n",
       "| Other Theft | 2003 | 5 |  7 | 15 | 20 | 9XX TERMINAL AVE | Strathcona | 493906.5 | 5457452 | 49.2698 | -123.0838 |\n",
       "| Other Theft | 2003 | 4 | 23 | 16 | 40 | 9XX TERMINAL AVE | Strathcona | 493906.5 | 5457452 | 49.2698 | -123.0838 |\n",
       "| ⋮ | ⋮ | ⋮ | ⋮ | ⋮ | ⋮ | ⋮ | ⋮ | ⋮ | ⋮ | ⋮ | ⋮ |\n",
       "| Offence Against a Person                             | 2017 | 4 | 13 | NA | NA | OFFSET TO PROTECT PRIVACY | NA                        |      0.0 |       0 |  0.00000 |    0.0000 |\n",
       "| Theft from Vehicle                                   | 2017 | 6 |  5 | 17 |  0 | 8XX HAMILTON ST           | Central Business District | 491487.8 | 5458386 | 49.27817 | -123.1170 |\n",
       "| Vehicle Collision or Pedestrian Struck (with Injury) | 2017 | 6 |  6 | 17 | 38 | 13XX BLOCK PARK DR        | Marpole                   | 490204.0 | 5451444 | 49.21571 | -123.1345 |\n",
       "\n"
      ],
      "text/plain": [
       "       TYPE                                                 YEAR MONTH DAY HOUR\n",
       "1      Other Theft                                          2003 5     12  16  \n",
       "2      Other Theft                                          2003 5      7  15  \n",
       "3      Other Theft                                          2003 4     23  16  \n",
       "⋮      ⋮                                                    ⋮    ⋮     ⋮   ⋮   \n",
       "530650 Offence Against a Person                             2017 4     13  NA  \n",
       "530651 Theft from Vehicle                                   2017 6      5  17  \n",
       "530652 Vehicle Collision or Pedestrian Struck (with Injury) 2017 6      6  17  \n",
       "       MINUTE HUNDRED_BLOCK             NEIGHBOURHOOD             X       \n",
       "1      15     9XX TERMINAL AVE          Strathcona                493906.5\n",
       "2      20     9XX TERMINAL AVE          Strathcona                493906.5\n",
       "3      40     9XX TERMINAL AVE          Strathcona                493906.5\n",
       "⋮      ⋮      ⋮                         ⋮                         ⋮       \n",
       "530650 NA     OFFSET TO PROTECT PRIVACY NA                             0.0\n",
       "530651  0     8XX HAMILTON ST           Central Business District 491487.8\n",
       "530652 38     13XX BLOCK PARK DR        Marpole                   490204.0\n",
       "       Y       Latitude Longitude\n",
       "1      5457452 49.2698  -123.0838\n",
       "2      5457452 49.2698  -123.0838\n",
       "3      5457452 49.2698  -123.0838\n",
       "⋮      ⋮       ⋮        ⋮        \n",
       "530650       0  0.00000    0.0000\n",
       "530651 5458386 49.27817 -123.1170\n",
       "530652 5451444 49.21571 -123.1345"
      ]
     },
     "metadata": {},
     "output_type": "display_data"
    }
   ],
   "source": [
    "crime_data <- read_csv(\"crime_data.csv\")\n",
    "crime_data"
   ]
  },
  {
   "cell_type": "code",
   "execution_count": null,
   "id": "26bb63a3-64d9-4149-ad12-b939cf57e502",
   "metadata": {},
   "outputs": [],
   "source": []
  }
 ],
 "metadata": {
  "kernelspec": {
   "display_name": "R",
   "language": "R",
   "name": "ir"
  },
  "language_info": {
   "codemirror_mode": "r",
   "file_extension": ".r",
   "mimetype": "text/x-r-source",
   "name": "R",
   "pygments_lexer": "r",
   "version": "4.2.2"
  }
 },
 "nbformat": 4,
 "nbformat_minor": 5
}
